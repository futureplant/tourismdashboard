{
 "cells": [
  {
   "cell_type": "markdown",
   "metadata": {},
   "source": [
    "<b>Notebook for retrieving and processing Airbnb listing data from Inside Airbnb site (http://insideairbnb.com/)</b>\n",
    "* All rights reserved to the respective owners.\n",
    "* The author of this script is not affiliated with Airbnb or any of Airbnb's competitors.\n",
    "* No private information is being used. Names, photographs, listings and review details are all publicly displayed on the Airbnb site and published by Inside Airbnb."
   ]
  },
  {
   "cell_type": "code",
   "execution_count": null,
   "metadata": {},
   "outputs": [],
   "source": [
    "import pandas as pd\n",
    "import os\n",
    "import datetime\n",
    "import geopandas as gpd\n",
    "import glob as glob\n",
    "import shutil\n",
    "from scripts.A_data_wrangling import listing2gdf, census2gdf,CalculateTouristIntensity,aggregate\n"
   ]
  },
  {
   "cell_type": "code",
   "execution_count": null,
   "metadata": {},
   "outputs": [],
   "source": [
    "#all listing data urls for Amsterdam of every year for the month April\n",
    "apr2019 = \"http://data.insideairbnb.com/the-netherlands/north-holland/amsterdam/2019-04-08/data/listings.csv.gz\"\n",
    "apr2018 = \"http://data.insideairbnb.com/the-netherlands/north-holland/amsterdam/2018-04-07/data/listings.csv.gz\"\n",
    "apr2017 = \"http://data.insideairbnb.com/the-netherlands/north-holland/amsterdam/2017-04-02/data/listings.csv.gz\"\n",
    "apr2016 = \"http://data.insideairbnb.com/the-netherlands/north-holland/amsterdam/2016-04-04/data/listings.csv.gz\"\n",
    "apr2015 = \"http://data.insideairbnb.com/the-netherlands/north-holland/amsterdam/2015-04-05/data/listings.csv.gz\"\n",
    "listings_2015_2019 = [apr2019,apr2018,apr2017,apr2016,apr2015 ]"
   ]
  },
  {
   "cell_type": "code",
   "execution_count": null,
   "metadata": {},
   "outputs": [],
   "source": [
    "#create new folder in output\n",
    "out_folder = './output/airbnb_data'\n",
    "if os.path.exists(out_folder):\n",
    "    shutil.rmtree(out_folder)\n",
    "os.makedirs(out_folder)\n",
    "\n",
    "#retrieve and process listing data\n",
    "for url in listings_2015_2019:\n",
    "        \n",
    "    date = url.split('/')[-3]\n",
    "    year = date[0:4]\n",
    "    \n",
    "    print(\"Processing: \\n\" + url)\n",
    "    \n",
    "    #load airbnb data and seperate features\n",
    "    airbnb_gdf = listing2gdf(url)\n",
    "    room = airbnb_gdf.loc[airbnb_gdf['room_type'].isin(['Private room','Shared room'])]\n",
    "    entire_home = airbnb_gdf.loc[airbnb_gdf['room_type']=='Entire home/apt']\n",
    "    superhost = airbnb_gdf.loc[airbnb_gdf['host_is_superhost']=='t']\n",
    "    illegal = airbnb_gdf.loc[airbnb_gdf['availability_365']>30]\n",
    "    \n",
    "    #loading Amsterdam census data\n",
    "    nbh_gdf = census2gdf(\"./data/amsterdam_neighbourhoods.geojson\")\n",
    "    \n",
    "    #aggregate airbnb features and census data\n",
    "    nbh_gdf = aggregate(airbnb_gdf,nbh_gdf,room,entire_home,superhost,illegal)\n",
    "    \n",
    "    #calculate tourist intensity\n",
    "    nbh_gdf = CalculateTouristIntensity(nbh_gdf,year)\n",
    "    nbh_gdf['date'] = date\n",
    "    \n",
    "    #export listing and airbnb data as geojson files\n",
    "    nbh_gdf.to_file(\"./output/airbnb_data/AirbnbPoly_{}.geojson\".format(date.replace('-','')), driver=\"GeoJSON\",encoding='utf-8')\n",
    "    airbnb_gdf.to_file(\"./output/airbnb_data/AirbnbPoints_{}.geojson\".format(date.replace('-','')),driver=\"GeoJSON\",encoding='utf-8')\n",
    "    \n",
    "    print(\"Done!\")"
   ]
  },
  {
   "cell_type": "code",
   "execution_count": null,
   "metadata": {},
   "outputs": [],
   "source": [
    "#concatenate geojson from different years (poly)\n",
    "data_poly = []\n",
    "\n",
    "for poly in glob.glob(\"./output/airbnb_data/AirbnbPoly_*\"):\n",
    "    gdf = gpd.read_file(poly, driver='GeoJSON')\n",
    "    pdf = pd.DataFrame(gdf)\n",
    "    data_poly.append(pdf)\n",
    "    concat = pd.concat(data_poly, axis=0)\n",
    "    combined_gdf = gpd.GeoDataFrame(concat)\n",
    "combined_gdf.to_file(\"./output/airbnb_data/AirbnbPoly_Concat_2015to2019.geojson\", driver=\"GeoJSON\",encoding='utf-8')\n"
   ]
  },
  {
   "cell_type": "code",
   "execution_count": null,
   "metadata": {},
   "outputs": [],
   "source": []
  }
 ],
 "metadata": {
  "kernelspec": {
   "display_name": "Python 3",
   "language": "python",
   "name": "python3"
  },
  "language_info": {
   "codemirror_mode": {
    "name": "ipython",
    "version": 3
   },
   "file_extension": ".py",
   "mimetype": "text/x-python",
   "name": "python",
   "nbconvert_exporter": "python",
   "pygments_lexer": "ipython3",
   "version": "3.7.3"
  }
 },
 "nbformat": 4,
 "nbformat_minor": 2
}
