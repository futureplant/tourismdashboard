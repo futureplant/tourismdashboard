{
 "cells": [
  {
   "cell_type": "markdown",
   "metadata": {},
   "source": [
    "<b>Processing Airbnb 2018 data and neighbourhoods_infiltration 2018 for 3D demo visualizaiton</b>"
   ]
  },
  {
   "cell_type": "code",
   "execution_count": null,
   "metadata": {},
   "outputs": [],
   "source": [
    "#import libraries\n",
    "import geopandas as gpd\n",
    "import pandas as pd\n",
    "import shutil\n",
    "import os"
   ]
  },
  {
   "cell_type": "code",
   "execution_count": null,
   "metadata": {},
   "outputs": [],
   "source": [
    "#create folder for infiltration data output\n",
    "out_folder = './output/airbnbinfiltration_data'\n",
    "if os.path.exists(out_folder):\n",
    "    shutil.rmtree(out_folder)\n",
    "os.makedirs(out_folder)"
   ]
  },
  {
   "cell_type": "code",
   "execution_count": null,
   "metadata": {},
   "outputs": [],
   "source": [
    "#load data\n",
    "infil_gdf = gpd.read_file('./output/neighbourhoods.geojson', driver='GeoJSON')\n",
    "airbnb_gdf = gpd.read_file('./output/airbnb_data/AirbnbPoly_20180407.geojson', driver='GeoJSON')"
   ]
  },
  {
   "cell_type": "code",
   "execution_count": null,
   "metadata": {},
   "outputs": [],
   "source": [
    "#data cleaning\n",
    "infil_gdf.head(2)\n",
    "infil_gdf = infil_gdf[['Buurt','dist2hot2018','Beds','geometry']]\n",
    "infil_gdf .rename(columns={'Beds':'HotelBeds2018'}, inplace=True)\n",
    "airbnb_gdf = airbnb_gdf[['Buurt','2018','Airbnb_TouristIntensity','Airbnb_BedsCount']]"
   ]
  },
  {
   "cell_type": "code",
   "execution_count": null,
   "metadata": {},
   "outputs": [],
   "source": [
    "#merge geodataframes\n",
    "treated_gdf = infil_gdf.merge(airbnb_gdf,on='Buurt',how = 'outer')\n",
    "treated_gdf.rename(columns={'2018':'Pop2018'}, inplace=True)"
   ]
  },
  {
   "cell_type": "code",
   "execution_count": null,
   "metadata": {
    "scrolled": true
   },
   "outputs": [],
   "source": [
    "#will show error but creates output anyway\n",
    "treated_gdf.to_file(\"./output/airbnbinfiltration_data/neighbourhoods_infiltration2018.geojson\",driver=\"GeoJSON\",encoding='utf-8')"
   ]
  },
  {
   "cell_type": "code",
   "execution_count": null,
   "metadata": {},
   "outputs": [],
   "source": []
  },
  {
   "cell_type": "code",
   "execution_count": null,
   "metadata": {},
   "outputs": [],
   "source": []
  },
  {
   "cell_type": "code",
   "execution_count": null,
   "metadata": {},
   "outputs": [],
   "source": []
  }
 ],
 "metadata": {
  "kernelspec": {
   "display_name": "Python 3",
   "language": "python",
   "name": "python3"
  },
  "language_info": {
   "codemirror_mode": {
    "name": "ipython",
    "version": 3
   },
   "file_extension": ".py",
   "mimetype": "text/x-python",
   "name": "python",
   "nbconvert_exporter": "python",
   "pygments_lexer": "ipython3",
   "version": "3.7.3"
  }
 },
 "nbformat": 4,
 "nbformat_minor": 2
}
